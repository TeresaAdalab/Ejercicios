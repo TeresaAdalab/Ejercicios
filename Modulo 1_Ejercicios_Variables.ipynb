{
 "cells": [
  {
   "cell_type": "code",
   "execution_count": 118,
   "metadata": {},
   "outputs": [
    {
     "data": {
      "text/plain": [
       "8"
      ]
     },
     "execution_count": 118,
     "metadata": {},
     "output_type": "execute_result"
    }
   ],
   "source": [
    "#1. Crea la variable `gatos` que sea un número con el valor `8`.\n",
    "gatos=8\n",
    "gatos"
   ]
  },
  {
   "cell_type": "code",
   "execution_count": 119,
   "metadata": {},
   "outputs": [
    {
     "name": "stdout",
     "output_type": "stream",
     "text": [
      "cuatro\n"
     ]
    }
   ],
   "source": [
    "#2. Crea la variable `perros`  que sea un texto de seis caracteres: la palabra `cuatro`.\n",
    "perros=\"cuatro\"\n",
    "\n",
    "print(perros)"
   ]
  },
  {
   "cell_type": "code",
   "execution_count": 120,
   "metadata": {},
   "outputs": [
    {
     "name": "stdout",
     "output_type": "stream",
     "text": [
      "8\n"
     ]
    }
   ],
   "source": [
    "#3. Imprime la variable `gatos`.\n",
    "print(gatos)"
   ]
  },
  {
   "cell_type": "code",
   "execution_count": 121,
   "metadata": {},
   "outputs": [
    {
     "name": "stdout",
     "output_type": "stream",
     "text": [
      "cuatro\n"
     ]
    }
   ],
   "source": [
    "#4. Imprime la variable `perros`.\n",
    "print(perros)\n"
   ]
  },
  {
   "cell_type": "code",
   "execution_count": 122,
   "metadata": {},
   "outputs": [
    {
     "name": "stdout",
     "output_type": "stream",
     "text": [
      "cuatro perros\n"
     ]
    }
   ],
   "source": [
    "#5. Imprime la variable `perros` seguida por la palabra `más` y la palabra `perros` otra vez.\n",
    "print (perros +\" \"+ \"perros\" )\n",
    "\n"
   ]
  },
  {
   "cell_type": "code",
   "execution_count": 123,
   "metadata": {},
   "outputs": [
    {
     "name": "stdout",
     "output_type": "stream",
     "text": [
      "cuatro cuatro más cuatro es igual a 8\n"
     ]
    }
   ],
   "source": [
    "#6.Consigue que el ordenador devuelva el siguiente texto, usando la variable `perros`: `cuatro más cuatro es igual a 8`.\n",
    "print (perros +\" \"+\"cuatro más cuatro es igual a 8\" )\n"
   ]
  },
  {
   "cell_type": "code",
   "execution_count": 124,
   "metadata": {},
   "outputs": [
    {
     "name": "stdout",
     "output_type": "stream",
     "text": [
      "cuatro cuatro + cuatro = 8\n"
     ]
    }
   ],
   "source": [
    "#7. Consigue que el ordenador devuelva el siguiente texto, usando la variable`perros`: `cuatro + cuatro = 8`.\n",
    "print (perros +\" \"+\"cuatro + cuatro = 8\")"
   ]
  },
  {
   "cell_type": "code",
   "execution_count": 125,
   "metadata": {},
   "outputs": [
    {
     "data": {
      "text/plain": [
       "float"
      ]
     },
     "execution_count": 125,
     "metadata": {},
     "output_type": "execute_result"
    }
   ],
   "source": [
    "#8. Define una variable `pizzas` con un valor `2` que sea del tipo float.\n",
    "pizzas=2.0\n",
    "type(pizzas)"
   ]
  },
  {
   "cell_type": "code",
   "execution_count": 126,
   "metadata": {},
   "outputs": [
    {
     "data": {
      "text/plain": [
       "str"
      ]
     },
     "execution_count": 126,
     "metadata": {},
     "output_type": "execute_result"
    }
   ],
   "source": [
    "#9. Define `magdalenas` con un valor `2` que sea del tipo string.\n",
    "magdalenas=\"2\"\n",
    "type(magdalenas)"
   ]
  },
  {
   "cell_type": "code",
   "execution_count": 127,
   "metadata": {},
   "outputs": [
    {
     "data": {
      "text/plain": [
       "int"
      ]
     },
     "execution_count": 127,
     "metadata": {},
     "output_type": "execute_result"
    }
   ],
   "source": [
    "#10. Define `postres` con un valor `0` que sea del tipo int.\n",
    "postres=0\n",
    "type(postres)"
   ]
  },
  {
   "cell_type": "code",
   "execution_count": 128,
   "metadata": {},
   "outputs": [
    {
     "data": {
      "text/plain": [
       "float"
      ]
     },
     "execution_count": 128,
     "metadata": {},
     "output_type": "execute_result"
    }
   ],
   "source": [
    "#11. ¿Qué tipo de dato es la variable `pizzas`?\n",
    "type(pizzas)"
   ]
  },
  {
   "cell_type": "code",
   "execution_count": 129,
   "metadata": {},
   "outputs": [
    {
     "data": {
      "text/plain": [
       "str"
      ]
     },
     "execution_count": 129,
     "metadata": {},
     "output_type": "execute_result"
    }
   ],
   "source": [
    "#12. ¿Es la variable `magdalenas` de tipo string?\n",
    "type(magdalenas)"
   ]
  },
  {
   "cell_type": "code",
   "execution_count": 130,
   "metadata": {},
   "outputs": [
    {
     "data": {
      "text/plain": [
       "str"
      ]
     },
     "execution_count": 130,
     "metadata": {},
     "output_type": "execute_result"
    }
   ],
   "source": [
    "#13. Define `postres` con un valor `0`.\n",
    "postres=\"0\"\n",
    "type(postres)"
   ]
  },
  {
   "cell_type": "code",
   "execution_count": 131,
   "metadata": {},
   "outputs": [
    {
     "name": "stdout",
     "output_type": "stream",
     "text": [
      "10.0\n"
     ]
    }
   ],
   "source": [
    "#14. Calcula la suma de `gatos` y `pizzas`.\n",
    "suma=gatos+pizzas\n",
    "print(suma)"
   ]
  },
  {
   "cell_type": "code",
   "execution_count": 132,
   "metadata": {},
   "outputs": [
    {
     "name": "stdout",
     "output_type": "stream",
     "text": [
      "16\n"
     ]
    }
   ],
   "source": [
    "#16. Multiplica las cantidad de gatos por 2.\n",
    "multiplica_gatos=gatos*2\n",
    "print(multiplica_gatos)"
   ]
  },
  {
   "cell_type": "code",
   "execution_count": 133,
   "metadata": {},
   "outputs": [
    {
     "name": "stdout",
     "output_type": "stream",
     "text": [
      "16.0\n"
     ]
    }
   ],
   "source": [
    "#17. Crea una variable `piezas` que sea 8 veces la cantidad de `pizzas`.\n",
    "piezas=pizzas*8\n",
    "print(piezas)"
   ]
  },
  {
   "cell_type": "code",
   "execution_count": 134,
   "metadata": {},
   "outputs": [
    {
     "name": "stdout",
     "output_type": "stream",
     "text": [
      "48.0\n"
     ]
    }
   ],
   "source": [
    "#18.Haz que la cantidad de `piezas` se aumente en 3.\n",
    "piezas3=piezas*3\n",
    "print(piezas3)"
   ]
  },
  {
   "cell_type": "code",
   "execution_count": 135,
   "metadata": {},
   "outputs": [
    {
     "name": "stdout",
     "output_type": "stream",
     "text": [
      "81\n"
     ]
    }
   ],
   "source": [
    "#19. Calcula el cuadrado de 9 y guárdalo en una variable llamada `superficie`.\n",
    "superficie=9**2\n",
    "print(superficie)"
   ]
  },
  {
   "cell_type": "code",
   "execution_count": 136,
   "metadata": {},
   "outputs": [
    {
     "name": "stdout",
     "output_type": "stream",
     "text": [
      "10.125\n"
     ]
    }
   ],
   "source": [
    "#20. ¿Cuánta superficie hay por gato?\n",
    "superfice_gatos= superficie/gatos\n",
    "print(superfice_gatos)"
   ]
  },
  {
   "cell_type": "code",
   "execution_count": 137,
   "metadata": {},
   "outputs": [
    {
     "name": "stdout",
     "output_type": "stream",
     "text": [
      "2.0\n"
     ]
    }
   ],
   "source": [
    "#21. ¿Cuántas piezas enteras hay por gato?\n",
    "piezas_gatos=piezas/gatos\n",
    "print(piezas_gatos)"
   ]
  },
  {
   "cell_type": "code",
   "execution_count": 138,
   "metadata": {},
   "outputs": [
    {
     "name": "stdout",
     "output_type": "stream",
     "text": [
      "-26.0\n"
     ]
    }
   ],
   "source": [
    "#22. ¿Cuántas piezas te quedan si cada gato se come 21 piezas?\n",
    "piezas_gatos=piezas_gatos*21\n",
    "resto=piezas-piezas_gatos\n",
    "print(resto)\n"
   ]
  },
  {
   "cell_type": "code",
   "execution_count": 139,
   "metadata": {},
   "outputs": [
    {
     "name": "stdout",
     "output_type": "stream",
     "text": [
      "10.1\n"
     ]
    }
   ],
   "source": [
    "#23. ¿Cuánta superficie hay por gato en metros cuadrados? Redondeala a un sólo decima\n",
    "print(round(superfice_gatos,1))"
   ]
  },
  {
   "cell_type": "code",
   "execution_count": 140,
   "metadata": {},
   "outputs": [
    {
     "name": "stdout",
     "output_type": "stream",
     "text": [
      "True\n"
     ]
    }
   ],
   "source": [
    "#24. ¿Es verdad que hay más gatos que pizzas?\n",
    "print(gatos>pizzas)"
   ]
  },
  {
   "cell_type": "code",
   "execution_count": 141,
   "metadata": {},
   "outputs": [
    {
     "name": "stdout",
     "output_type": "stream",
     "text": [
      "True\n"
     ]
    }
   ],
   "source": [
    "#25. ¿Es verdad que hay menos gatos que superficie?\n",
    "print(gatos<superficie)"
   ]
  },
  {
   "cell_type": "code",
   "execution_count": 142,
   "metadata": {},
   "outputs": [
    {
     "name": "stdout",
     "output_type": "stream",
     "text": [
      "True\n"
     ]
    }
   ],
   "source": [
    "#26. ¿Es verdad que 2 veces la cantidad de pizzas es distinto de la cantidad de gatos?\n",
    "print((2*pizzas) != gatos)"
   ]
  },
  {
   "cell_type": "code",
   "execution_count": 143,
   "metadata": {},
   "outputs": [
    {
     "name": "stdout",
     "output_type": "stream",
     "text": [
      "False\n"
     ]
    }
   ],
   "source": [
    "#27. ¿Es falso que 2 veces la cantidad de pizzas es igual a la cantidad de gatos?\n",
    "print((2*pizzas) == gatos)"
   ]
  },
  {
   "cell_type": "code",
   "execution_count": 144,
   "metadata": {},
   "outputs": [
    {
     "name": "stdout",
     "output_type": "stream",
     "text": [
      "True\n"
     ]
    }
   ],
   "source": [
    "#28. La variable `piezas`, es mayor o igual a `pizzas` y `superficie` es distinto de cero?\n",
    "print(piezas >= pizzas and superficie != gatos)"
   ]
  },
  {
   "cell_type": "code",
   "execution_count": 145,
   "metadata": {},
   "outputs": [
    {
     "name": "stdout",
     "output_type": "stream",
     "text": [
      "True\n"
     ]
    }
   ],
   "source": [
    "#29. La variable `piezas`, es mayor o igual a `pizzas` y menor que `superficie`?\n",
    "print(piezas >= pizzas and superficie > piezas)"
   ]
  },
  {
   "cell_type": "code",
   "execution_count": 146,
   "metadata": {},
   "outputs": [
    {
     "name": "stdout",
     "output_type": "stream",
     "text": [
      "True\n"
     ]
    }
   ],
   "source": [
    "#30 y 31. Me interesa saber si hay más pizzas que gatos, o si el residuo de piezas por gato es cero.\n",
    "print(pizzas > gatos or piezas % gatos == 0)"
   ]
  },
  {
   "cell_type": "code",
   "execution_count": 147,
   "metadata": {},
   "outputs": [],
   "source": [
    "#32. Comprueba si `superficie` es diferente a cero sin usar `!=`."
   ]
  },
  {
   "cell_type": "code",
   "execution_count": 148,
   "metadata": {},
   "outputs": [
    {
     "name": "stdout",
     "output_type": "stream",
     "text": [
      "0\n"
     ]
    }
   ],
   "source": [
    "#33. Usa `input()` para preguntar a un usuario el día de su cumpleaños y guarda la respuesta en la variable dia_cumple.\n",
    "dia_cumple=()\n",
    "dia_cumple=input(\"Por favor, introduce el día de tu cumpleaños: \")\n",
    "print(dia_cumple)\n"
   ]
  },
  {
   "cell_type": "code",
   "execution_count": 149,
   "metadata": {},
   "outputs": [
    {
     "name": "stdout",
     "output_type": "stream",
     "text": [
      "9\n"
     ]
    }
   ],
   "source": [
    "#34. Usa `input()` para preguntar a un usuario el mes de su cumpleaños y guarda la respuesta en la variable mes_cumple.\n",
    "dia_mes=()\n",
    "dia_mes=input(\"Por favor, introduce el día de tu cumpleaños: \")\n",
    "print(dia_mes)\n"
   ]
  },
  {
   "cell_type": "code",
   "execution_count": 150,
   "metadata": {},
   "outputs": [
    {
     "name": "stdout",
     "output_type": "stream",
     "text": [
      "9\n"
     ]
    }
   ],
   "source": [
    "# 35. Usa `.strip()` en ambas de las variables definidas\n",
    "dia_cumple = dia_cumple.strip()\n",
    "print(dia_mes)"
   ]
  },
  {
   "cell_type": "code",
   "execution_count": 155,
   "metadata": {},
   "outputs": [
    {
     "name": "stdout",
     "output_type": "stream",
     "text": [
      "0 9\n"
     ]
    }
   ],
   "source": [
    "# 36. Haz que `fecha_cumple` sea un *string* compuesto por el día y el mes.\n",
    "fecha_cumple= str(dia_cumple + \" \"+dia_mes)\n",
    "print(fecha_cumple)"
   ]
  },
  {
   "cell_type": "code",
   "execution_count": 158,
   "metadata": {},
   "outputs": [
    {
     "name": "stdout",
     "output_type": "stream",
     "text": [
      "La fecha de cumpleaños es : 0 9\n"
     ]
    }
   ],
   "source": [
    "#37. Imprime `Fecha de cumpleaños es` más el día y el mes.\n",
    "print(\"La fecha de cumpleaños es :\" ,fecha_cumple)"
   ]
  },
  {
   "cell_type": "code",
   "execution_count": 160,
   "metadata": {},
   "outputs": [
    {
     "name": "stdout",
     "output_type": "stream",
     "text": [
      "CUATRO\n"
     ]
    }
   ],
   "source": [
    "#38. Imprime la variable perros en todas mayúsculas.....\n",
    "perros_may=perros.upper()\n",
    "print(perros_may)"
   ]
  }
 ],
 "metadata": {
  "kernelspec": {
   "display_name": "Python 3",
   "language": "python",
   "name": "python3"
  },
  "language_info": {
   "codemirror_mode": {
    "name": "ipython",
    "version": 3
   },
   "file_extension": ".py",
   "mimetype": "text/x-python",
   "name": "python",
   "nbconvert_exporter": "python",
   "pygments_lexer": "ipython3",
   "version": "3.10.9"
  }
 },
 "nbformat": 4,
 "nbformat_minor": 2
}
