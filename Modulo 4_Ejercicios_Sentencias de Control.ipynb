{
 "cells": [
  {
   "cell_type": "code",
   "execution_count": 24,
   "metadata": {},
   "outputs": [],
   "source": [
    "# 1. Crea las siguientes variables:\n",
    "var1= 8\n",
    "\n",
    "var2 =2\n",
    "\n",
    "var3= 8"
   ]
  },
  {
   "cell_type": "code",
   "execution_count": 25,
   "metadata": {},
   "outputs": [
    {
     "name": "stdout",
     "output_type": "stream",
     "text": [
      "Es enorme 8\n"
     ]
    }
   ],
   "source": [
    "# 2.Comprueba si var1 es mayor que 6, y si es así imprime ¡Es enorme!\n",
    "if var1 > 6: \n",
    "    print(\"Es enorme\",var1)"
   ]
  },
  {
   "cell_type": "code",
   "execution_count": 26,
   "metadata": {},
   "outputs": [
    {
     "name": "stdout",
     "output_type": "stream",
     "text": [
      "Es enorme\n"
     ]
    }
   ],
   "source": [
    "# 3. Comprueba si `var2` es mayor que 6, y si es así imprime `¡Es enorme también!`.\n",
    "if var1 > 6: \n",
    "    print(\"Es enorme\")"
   ]
  },
  {
   "cell_type": "code",
   "execution_count": 27,
   "metadata": {},
   "outputs": [
    {
     "name": "stdout",
     "output_type": "stream",
     "text": [
      "Es enorme\n",
      "Pero de Verdad\n"
     ]
    }
   ],
   "source": [
    "# 4. Comprueba si `var3` es mayor que 6, y si es así imprime `¡Es enorme!` seguido por\n",
    "if var3 > 6: \n",
    "    print(\"Es enorme\")\n",
    "    print(\"Pero de Verdad\")\n",
    "\n"
   ]
  },
  {
   "cell_type": "code",
   "execution_count": 28,
   "metadata": {},
   "outputs": [
    {
     "name": "stdout",
     "output_type": "stream",
     "text": [
      "Son iguales\n"
     ]
    }
   ],
   "source": [
    "#  5. Comprueba si `var1` es igual que `var3`, y si es así imprime `Son iguales.`\n",
    "if var1==var3:\n",
    "    print(\"Son iguales\")"
   ]
  },
  {
   "cell_type": "code",
   "execution_count": 32,
   "metadata": {},
   "outputs": [],
   "source": [
    "# 6. Comprueba si `var1` es igual que `var2`, y si es así imprime `Son iguales.`\n",
    "if var1 == var2:\n",
    "    print(\"Son iguales\")"
   ]
  },
  {
   "cell_type": "code",
   "execution_count": 33,
   "metadata": {},
   "outputs": [
    {
     "name": "stdout",
     "output_type": "stream",
     "text": [
      "La diferencia es 6\n"
     ]
    }
   ],
   "source": [
    "# 7. Comprueba si `var1` es mayor o igual que `var2`, y si es así calcula la diferencia entre `var1` y `var2`, guardala en la variable `dif`, e imprime `'La diferencia es',dif`. \n",
    "if var1 >= var2:\n",
    "    dif = var1 - var2\n",
    "    print(f\"La diferencia es {dif}\")"
   ]
  },
  {
   "cell_type": "code",
   "execution_count": 34,
   "metadata": {},
   "outputs": [
    {
     "name": "stdout",
     "output_type": "stream",
     "text": [
      "Es enorme\n"
     ]
    }
   ],
   "source": [
    "# 8. Comprueba si `var1` es mayor que 6, y si es así imprime `¡Es enorme!`. Si no es así imprime `Es chiquitín.`.\n",
    "if var1 > 6:\n",
    "    print(\"Es enorme\")\n",
    "else:\n",
    "    print(\"Es chiquitín\")"
   ]
  },
  {
   "cell_type": "code",
   "execution_count": 35,
   "metadata": {},
   "outputs": [
    {
     "name": "stdout",
     "output_type": "stream",
     "text": [
      "Es chiquitin\n"
     ]
    }
   ],
   "source": [
    "# 9. Comprueba si `var2` es mayor que 6, y si es así imprime `¡Es enorme también!`. Si no es así imprime `Es chiquitín también.`.\n",
    "if var2>6:\n",
    "    print(\"Es enorme tambien\")\n",
    "else:\n",
    "    print(\"Es chiquitin\")    "
   ]
  },
  {
   "cell_type": "code",
   "execution_count": 36,
   "metadata": {},
   "outputs": [
    {
     "name": "stdout",
     "output_type": "stream",
     "text": [
      "Son iguales\n"
     ]
    }
   ],
   "source": [
    "# 10. Comprueba si `var1` es igual a `var3`, y si es así imprime `Son iguales.` Si no es así imprime `Son distintos.`\n",
    "if var1 == var3:\n",
    "    print(\"Son iguales\")\n",
    "else:\n",
    "    print(\"Son distintos\")"
   ]
  },
  {
   "cell_type": "code",
   "execution_count": 44,
   "metadata": {},
   "outputs": [
    {
     "name": "stdout",
     "output_type": "stream",
     "text": [
      "debes pagar 5 euros\n"
     ]
    }
   ],
   "source": [
    "#11. Programa empresa salas de juegos.\n",
    "años = int(input(\"¿Cuantos años tienes\"))# Creamos una variable años donde se pregunta la edad\n",
    "if años < 4:\n",
    "    print(\"entrada gratis\")\n",
    "elif años >= 4 and años <= 18:\n",
    "    print(\"debes pagar 5 euros\")\n",
    "else:\n",
    "    print(\"debes pagar 10 euros\")\n"
   ]
  },
  {
   "cell_type": "code",
   "execution_count": 46,
   "metadata": {},
   "outputs": [
    {
     "name": "stdout",
     "output_type": "stream",
     "text": [
      "Los ahorros que tenemos son 5\n",
      "Los ahorros que tenemos son 10\n",
      "Los ahorros que tenemos son 15\n",
      "Los ahorros que tenemos son 20\n"
     ]
    }
   ],
   "source": [
    "# 12. Inicia la varible `ahorros` con un valor de `5`. \n",
    "# Crea un bucle while que mientras los ahorros sean igual a o menor que `20` imprima por pantalla la cantidad de ahorros que tenemos,\n",
    "# y añádele `5` más. \n",
    "# Cuando la variable ahorros supere el valor de 20 el bucle deberá parar. \n",
    "ahorros = 5\n",
    "while ahorros <= 20:\n",
    "    print(f\"Los ahorros que tenemos son {ahorros}\")\n",
    "    ahorros += 5"
   ]
  },
  {
   "cell_type": "code",
   "execution_count": null,
   "metadata": {},
   "outputs": [],
   "source": [
    "#13. Escribe un programa que convierta grados Celsius a grados Fahrenheit o viceversa, según laelección del usuario"
   ]
  },
  {
   "cell_type": "code",
   "execution_count": 52,
   "metadata": {},
   "outputs": [
    {
     "name": "stdout",
     "output_type": "stream",
     "text": [
      "Tu impuesto sobre la renta es: $1002.50\n"
     ]
    }
   ],
   "source": [
    "#14.Crea un programa que calcule el impuesto sobre la renta\n",
    "ingreso_anual = float(input(\"Ingresa tu ingreso anual: \")) # Solicitamos el ingreso anual\n",
    "estado_civil = input(\"¿Eres soltero o casado? (S/C): \") #Preguntamos el estado civil\n",
    "\n",
    "if estado_civil.upper() == \"S\": #Caluclo de impuesto\n",
    "    if ingreso_anual <= 9875:\n",
    "        impuesto = ingreso_anual * 0.10\n",
    "    elif ingreso_anual <= 40125:\n",
    "        impuesto = 9875 * 0.10 + (ingreso_anual - 9875) * 0.12\n",
    "else:\n",
    "    if ingreso_anual <= 19850:\n",
    "        impuesto = ingreso_anual * 0.10\n",
    "    elif ingreso_anual <= 80250:\n",
    "        impuesto = 19850 * 0.10 + (ingreso_anual - 19850) * 0.12\n",
    "\n",
    "print(f\"Tu impuesto sobre la renta es: ${impuesto:.2f}\")"
   ]
  },
  {
   "cell_type": "code",
   "execution_count": 50,
   "metadata": {},
   "outputs": [
    {
     "name": "stdout",
     "output_type": "stream",
     "text": [
      "La calidad del aire es: No Saludable para Grupos Sensibles\n",
      "¡Advertencia! La exposición prolongada puede ser perjudicial para la salud.\n"
     ]
    }
   ],
   "source": [
    "#15. Escribe un programa que convierta grados Celsius a grados Fahrenheit o viceversa, según laelección del usuario\n",
    "\n",
    "try:\n",
    "    concentracion_pm25 = float(input(\"Ingrese la concentración de PM2.5 en el aire (en µg/m³): \"))\n",
    "except ValueError:\n",
    "    print(\"Error: Debes ingresar un valor numérico válido.\")\n",
    "    exit()\n",
    "\n",
    "# Evalúa el nivel de contaminación del aire\n",
    "if concentracion_pm25 <= 12:\n",
    "    calidad_aire = \"Excelente\"\n",
    "elif 13 <= concentracion_pm25 <= 35:\n",
    "    calidad_aire = \"Buena\"\n",
    "elif 36 <= concentracion_pm25 <= 55:\n",
    "    calidad_aire = \"Aceptable\"\n",
    "elif 56 <= concentracion_pm25 <= 150:\n",
    "    calidad_aire = \"No Saludable para Grupos Sensibles\"\n",
    "else:\n",
    "    calidad_aire = \"No Saludable\"\n",
    "\n",
    "# Muestra el estado de la calidad del aire\n",
    "print(f\"La calidad del aire es: {calidad_aire}\")\n",
    "\n",
    "# Advierte sobre efectos en la salud si es necesario\n",
    "if calidad_aire in [\"No Saludable para Grupos Sensibles\", \"No Saludable\"]:\n",
    "    print(\"¡Advertencia! La exposición prolongada puede ser perjudicial para la salud.\")\n"
   ]
  },
  {
   "cell_type": "code",
   "execution_count": null,
   "metadata": {},
   "outputs": [],
   "source": []
  }
 ],
 "metadata": {
  "kernelspec": {
   "display_name": "Python 3",
   "language": "python",
   "name": "python3"
  },
  "language_info": {
   "codemirror_mode": {
    "name": "ipython",
    "version": 3
   },
   "file_extension": ".py",
   "mimetype": "text/x-python",
   "name": "python",
   "nbconvert_exporter": "python",
   "pygments_lexer": "ipython3",
   "version": "3.10.9"
  }
 },
 "nbformat": 4,
 "nbformat_minor": 2
}
